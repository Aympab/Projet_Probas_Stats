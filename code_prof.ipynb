{
 "cells": [
  {
   "cell_type": "code",
   "execution_count": 4,
   "metadata": {},
   "outputs": [
    {
     "data": {
      "image/png": "[encoded data removed]",
      "text/plain": [
       "<Figure size 432x288 with 1 Axes>"
      ]
     },
     "metadata": {
      "needs_background": "light"
     },
     "output_type": "display_data"
    },
    {
     "ename": "AttributeError",
     "evalue": "module 'matplotlib.pyplot' has no attribute 'xrange'",
     "output_type": "error",
     "traceback": [
      "\u001b[1;31m---------------------------------------------------------------------------\u001b[0m",
      "\u001b[1;31mAttributeError\u001b[0m                            Traceback (most recent call last)",
      "\u001b[1;32m~\\AppData\\Local\\Temp/ipykernel_14160/1877051597.py\u001b[0m in \u001b[0;36m<module>\u001b[1;34m\u001b[0m\n\u001b[0;32m     37\u001b[0m \u001b[0msamples\u001b[0m \u001b[1;33m=\u001b[0m \u001b[1;33m[\u001b[0m\u001b[1;33m]\u001b[0m\u001b[1;33m\u001b[0m\u001b[1;33m\u001b[0m\u001b[0m\n\u001b[0;32m     38\u001b[0m \u001b[1;33m\u001b[0m\u001b[0m\n\u001b[1;32m---> 39\u001b[1;33m \u001b[1;32mfor\u001b[0m \u001b[0mi\u001b[0m \u001b[1;32min\u001b[0m \u001b[0mplt\u001b[0m\u001b[1;33m.\u001b[0m\u001b[0mxrange\u001b[0m\u001b[1;33m(\u001b[0m\u001b[0mN\u001b[0m\u001b[1;33m)\u001b[0m\u001b[1;33m:\u001b[0m\u001b[1;33m\u001b[0m\u001b[1;33m\u001b[0m\u001b[0m\n\u001b[0m\u001b[0;32m     40\u001b[0m     \u001b[0mxn\u001b[0m \u001b[1;33m=\u001b[0m \u001b[0mx\u001b[0m \u001b[1;33m+\u001b[0m \u001b[0mnp\u001b[0m\u001b[1;33m.\u001b[0m\u001b[0mrandom\u001b[0m\u001b[1;33m.\u001b[0m\u001b[0mnormal\u001b[0m\u001b[1;33m(\u001b[0m\u001b[0msize\u001b[0m\u001b[1;33m=\u001b[0m\u001b[1;36m1\u001b[0m\u001b[1;33m)\u001b[0m\u001b[1;33m\u001b[0m\u001b[1;33m\u001b[0m\u001b[0m\n\u001b[0;32m     41\u001b[0m     \u001b[0mpn\u001b[0m \u001b[1;33m=\u001b[0m \u001b[0mposterior\u001b[0m\u001b[1;33m(\u001b[0m\u001b[0mxn\u001b[0m\u001b[1;33m)\u001b[0m\u001b[1;33m\u001b[0m\u001b[1;33m\u001b[0m\u001b[0m\n",
      "\u001b[1;31mAttributeError\u001b[0m: module 'matplotlib.pyplot' has no attribute 'xrange'"
     ]
    }
   ],
   "source": [
    "import matplotlib.pyplot as plt\n",
    "import numpy as np\n",
    "import math\n",
    "\n",
    "#----------------------------------------------------------------------------------------#\n",
    "# define posterior distribution\n",
    "\n",
    "def posterior(x):\n",
    "    mu, sigma = 5, 2.0 # mean and standard deviation\n",
    "    num = math.exp( - ( x - mu )**2 / ( 2.0 * sigma **2 ) )\n",
    "    den = math.sqrt( 2 * math.pi * sigma **2)\n",
    "    return  num / den\n",
    "\n",
    "#----------------------------------------------------------------------------------------#\n",
    "# plot posterior\n",
    "\n",
    "x_array = np.linspace(-5.0, 15.0, 100)\n",
    "y_array = np.asarray( [posterior(x) for x in x_array] )\n",
    "\n",
    "plt.plot(x_array,y_array)\n",
    "\n",
    "plt.grid()\n",
    "plt.title('Metropolis Hastings Posterior')\n",
    "plt.savefig('posterior.png',bbox_inches='tight')\n",
    "plt.show()\n",
    "plt.close()\n",
    "\n",
    "#----------------------------------------------------------------------------------------#\n",
    "# Metropolis Hastings sampling from the posterior distribution\n",
    "\n",
    "N = 100000\n",
    "s = 10\n",
    "\n",
    "x = 0\n",
    "p = posterior(x)\n",
    "\n",
    "samples = []\n",
    "\n",
    "for i in xrange(N):\n",
    "    xn = x + np.random.normal(size=1)\n",
    "    pn = posterior(xn)\n",
    "    if pn >= p:\n",
    "        p = pn\n",
    "        x = xn\n",
    "    else:\n",
    "        u = np.random.rand()\n",
    "        if u < pn/p:\n",
    "            p = pn\n",
    "            x = xn\n",
    "    if i % s == 0:\n",
    "        samples.append(x)\n",
    "\n",
    "samples = np.array(samples)\n",
    "\n",
    "plt.scatter(samples, np.zeros_like(samples), s=10)\n",
    "\n",
    "plt.plot(x_array,y_array)\n",
    "plt.hist(samples, bins=50,normed=1)\n",
    "\n",
    "plt.title('Metropolis Hastings sampling')\n",
    "plt.grid()\n",
    "plt.savefig('metropolis_hastings_1d.png',bbox_inches='tight')\n",
    "plt.show()\n",
    "plt.close()\n"
   ]
  }
 ],
 "metadata": {
  "interpreter": {
   "hash": "10c5057d4480ebf144572526414467b9c263049de934db5001d631c93a084db0"
  },
  "kernelspec": {
   "display_name": "Python 3.9.9 64-bit (windows store)",
   "language": "python",
   "name": "python3"
  },
  "language_info": {
   "codemirror_mode": {
    "name": "ipython",
    "version": 3
   },
   "file_extension": ".py",
   "mimetype": "text/x-python",
   "name": "python",
   "nbconvert_exporter": "python",
   "pygments_lexer": "ipython3",
   "version": "3.9.9"
  },
  "orig_nbformat": 4
 },
 "nbformat": 4,
 "nbformat_minor": 2
}
