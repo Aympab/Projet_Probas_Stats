{
 "cells": [
  {
   "cell_type": "markdown",
   "metadata": {},
   "source": [
    "# Projet Master HPC-IA Mines ParisTech\n",
    "### _Cours de probas-stats avec le Professeur Miguel Munoz Zuniga_\n",
    "\n",
    "## **Problème 1** : Comparaison entre les méthodes des moments et de vraissemblance maximale\n",
    "\n",
    "Soit la variable aléatoire X suivant comme fonction de densité de probabilité :\n",
    "$$\n",
    "f(x) = \\frac{1}{\\alpha}e^{-\\frac{x-m}{\\alpha}}e^{-e^{-\\frac{x-m}{\\alpha}}}\n",
    "$$\n",
    "Avec $m$ et $\\alpha$ > 0 deux paramètres inconnus.\n",
    "\n",
    "### 1. Vérifions que $f$ est une fonction de densité de probabilité valide.\n",
    "Pour cela, nous devons prouver que :\n",
    "$$\n",
    "\\int_{-\\infty}^{\\infty} f(x) \\; dx = 1\n",
    "$$\n",
    "- Posons : \n",
    "    - $v(x) = -\\frac{x-m}{\\alpha}$\n",
    "    - $u(x) = -e^{-\\frac{x-m}{\\alpha}} = -e^{v(x)}$\n",
    "- Nous avons donc : \n",
    "  - $v'(x) = \\frac{1}{\\alpha}$\n",
    "  - $u'(x) = -v'(x)e^{v(x)}$\n",
    "- Ainsi :\n",
    "  - $f(x) = u'(x)e^{u(x)}$\n",
    "- Nous pouvons donc trouver facilement une primitive, qui nous aidera dans le calcul de l'intégrale :\n",
    "  - $F(x) = e^{-e^{-\\frac{x-m}{\\alpha}}} = e^{u(x)}$\n",
    "\n",
    "Revenons au problème initial donc prouver que $\\int_{-\\infty}^{\\infty} f(x) \\; dx = 1$ :\n",
    "$$\n",
    "\\begin{align}\n",
    "\\int_{-\\infty}^{\\infty} f(x) \\; dx &= \\lim\\limits_{\\substack{a \\rightarrow -\\infty \\\\ b \\rightarrow +\\infty}} [f(x)]_a^b \\\\\n",
    "&= \\lim\\limits_{\\substack{a \\rightarrow -\\infty \\\\ b \\rightarrow +\\infty}} F(b) - F(a) \\\\\n",
    "&= \\lim\\limits_{\\substack{a \\rightarrow -\\infty \\\\ b \\rightarrow +\\infty}} e^{-e^{-\\frac{b-m}{\\alpha}}} - e^{-e^{-\\frac{a-m}{\\alpha}}} \\\\\n",
    "\\text{A l'infini, }\\alpha\\text{ et }m&\\text{ sont négligeable, donc :} \\\\\n",
    "&= \\lim\\limits_{\\substack{a \\rightarrow -\\infty \\\\ b \\rightarrow +\\infty}} e^{-e^{-b}} - e^{-e^{-a}} \\\\\n",
    "&= \\lim\\limits_{\\substack{a \\rightarrow -\\infty \\\\ b \\rightarrow +\\infty}} e^{0} - e^{-\\infty} \\\\\n",
    "&= \\lim\\limits_{\\substack{a \\rightarrow -\\infty \\\\ b \\rightarrow +\\infty}} 1 - 0 \\\\\n",
    "&= 1 \\\\\n",
    "\\end{align}\n",
    "$$\n",
    "\n",
    "**La fonction $f$ est donc bien une fonction de densité de probabilité valide.**\n",
    "\n",
    "Maintenant, confirmons cela empiriquement avec python. Pour cela, tout d'abord, affichons la fonction de densité en jouant sur les paramètres $\\alpha$ et $m$ :"
   ]
  },
  {
   "cell_type": "code",
   "execution_count": 1,
   "metadata": {},
   "outputs": [],
   "source": [
    "from scipy.integrate import quad\n",
    "import matplotlib.pyplot as plt\n",
    "import itertools \n",
    "from math import exp\n",
    "\n",
    "_alpha = 10\n",
    "_m = 49\n",
    "\n",
    "def f(x, alpha=_alpha,m=_m) :\n",
    "    return (1/alpha) * exp(-((x-m)/alpha)) * exp(-exp(-((x-m)/alpha)))\n",
    "\n",
    "alphas = [10, 10, 20, 10]\n",
    "ms = [1, 25, 50, 80]\n",
    "\n",
    "xs = range(0, 100)\n",
    "ys = []\n",
    "for i in range(len(alphas)) :\n",
    "    a = alphas[i]\n",
    "    m = ms[i]\n",
    "    ys.append([f(x,alpha=a,m=m) for x in xs])\n",
    "\n",
    "\n",
    "plt.plot(xs,ys[0], label=\"m = 1, a = 10\")\n",
    "plt.plot(xs,ys[1], label=\"m = 25, a = 10\")\n",
    "plt.plot(xs,ys[2], label=\"m = 50, a = 20\")\n",
    "plt.plot(xs,ys[3], label=\"m = 80, a = 10\")\n",
    "plt.xlabel(\"x\")\n",
    "plt.ylabel(\"f(x)\")\n",
    "plt.legend()\n",
    "plt.show()"
   ]
  },
  {
   "cell_type": "markdown",
   "metadata": {},
   "source": [
    "Maintenant, en calculant numériquement l'aire sous la courbe entre une borne de plus en plus grande, nous voyons vite que le résultat converge vers 1 :"
   ]
  },
  {
   "cell_type": "code",
   "execution_count": 3,
   "metadata": {},
   "outputs": [
    {
     "name": "stdout",
     "output_type": "stream",
     "text": [
      "Aire sous la courbe de -1 à 1 : 4.771882121018131e-59\n",
      "Aire sous la courbe de -10 à 10 : 1.942337605016799e-24\n",
      "Aire sous la courbe de -100 à 100 : 0.9932847020678415\n",
      "Aire sous la courbe de -1000 à 1000 : 1.000000000000003\n"
     ]
    }
   ],
   "source": [
    "b_inf = [-1, -10, -100, -1000]\n",
    "b_sup = [1, 10, 100, 1000]\n",
    "\n",
    "res = [quad(f, inf, sup) for (inf, sup) in zip(b_inf, b_sup)]\n",
    "\n",
    "for r, inf, sup in zip(res, b_inf, b_sup) :\n",
    "    print(\"Aire sous la courbe de {} à {} : {}\".format(inf, sup, r[0]))\n",
    "# print('aire sous la courbe de -1000 a 1000 : ', res)"
   ]
  },
  {
   "cell_type": "markdown",
   "metadata": {},
   "source": [
    "### 2. Estimateur de $m$ et $\\alpha$ basé sur la méthode des moments.\n",
    "Dans cette question, nous nous intéressons à un échantillon aléatoire $(X_i)_{i = 1,\\dots,\\ n}$ de taille $n$.\n",
    "\n",
    "Comme nous avons deux paramètres à estimer, nous allons calculer les moments $\\hat{m}_1$ et $\\hat{m}_2$, soit respectivement $\\mathbb{E}(X)$ et $\\mathbb{E}(X^2)$. Ensuite, nous allons comparer ces deux moments à $\\overline{X}$ et $\\overline{X}_2$, soit respectivement la moyenne empirique des $X_i$ et des $X_i^2$.\n",
    "\n",
    "Enfin, nous pourrons résoudre le système à deux inconnues $\\hat{m} = m(\\theta)$\n",
    "\n",
    "#### - Calcul des moments\n",
    "#### - Calcul des moyennes empiriques\n",
    "#### - Résolution du système"
   ]
  },
  {
   "cell_type": "code",
   "execution_count": null,
   "metadata": {},
   "outputs": [],
   "source": []
  },
  {
   "cell_type": "code",
   "execution_count": null,
   "metadata": {},
   "outputs": [],
   "source": []
  },
  {
   "cell_type": "markdown",
   "metadata": {},
   "source": []
  }
 ],
 "metadata": {
  "interpreter": {
   "hash": "10c5057d4480ebf144572526414467b9c263049de934db5001d631c93a084db0"
  },
  "kernelspec": {
   "display_name": "Python 3.9.9 64-bit (windows store)",
   "language": "python",
   "name": "python3"
  },
  "language_info": {
   "codemirror_mode": {
    "name": "ipython",
    "version": 3
   },
   "file_extension": ".py",
   "mimetype": "text/x-python",
   "name": "python",
   "nbconvert_exporter": "python",
   "pygments_lexer": "ipython3",
   "version": "3.9.9"
  },
  "orig_nbformat": 4
 },
 "nbformat": 4,
 "nbformat_minor": 2
}
