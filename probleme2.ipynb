{
 "cells": [
  {
   "cell_type": "code",
   "execution_count": 31,
   "metadata": {},
   "outputs": [],
   "source": [
    "from scipy.integrate import quad\n",
    "import matplotlib.pyplot as plt\n",
    "import numpy as np\n",
    "import numpy.linalg as la\n",
    "from math import exp\n",
    "import scipy as sc\n",
    "import pandas as pd"
   ]
  },
  {
   "cell_type": "markdown",
   "metadata": {},
   "source": [
    "## **Problème 2** : Calibrations d'hyper-paramètres d'une regression de processus gaussien par maximum de vraissemblance.\n",
    "# BLABLABLA RESUMER LE PROBLEME ICI\n"
   ]
  },
  {
   "cell_type": "code",
   "execution_count": 39,
   "metadata": {},
   "outputs": [],
   "source": [
    "def cov_k(x0, x1, lambd = 1) :\n",
    "    return (1+ ((abs(x0 - x1))/lambd) + (((abs(x0-x1))**2)/(3*(lambd**2)))) * exp(-((abs(x0-x1))/lambd))\n",
    "\n",
    "def compute_cov_sigma(x, lambd = 1) :\n",
    "    return np.array([[cov_k(xi, xj, lambd) for xj in x] for xi in x])\n",
    "\n",
    "\n",
    "def compute_sigma(x, lambd = 1) :\n",
    "    sigma = np.zeros((x.shape[0], x.shape[0]))\n",
    "    for i, x0 in enumerate(x) :\n",
    "        for j, x1 in enumerate(x) :\n",
    "            sigma[i, j] = abs(cov_k(x0, x1, lambd=lambd))\n",
    "    \n",
    "    return sigma"
   ]
  },
  {
   "cell_type": "markdown",
   "metadata": {},
   "source": [
    "### 1. Simulation de plusieurs réalisations d'un processus Gaussien de moyenne nulle et de fonction de covariance $k_1$\n",
    "####    1.a. Moyenne et matrice de covariance du vecteur aléatoire $m + L^tG$\n",
    "- Prenons $N$ valeurs équi-distribuées avec $x_i \\in [0,1]$ tels que $x_1 < \\dots < x_N$.\n",
    "- Fixons $\\lambda = 1$ et calculons $\\Sigma$, la matrice de covariance "
   ]
  },
  {
   "cell_type": "code",
   "execution_count": 46,
   "metadata": {},
   "outputs": [
    {
     "name": "stdout",
     "output_type": "stream",
     "text": [
      "xi and Sigma computed !\n"
     ]
    }
   ],
   "source": [
    "N = 1500\n",
    "\n",
    "_out = True\n",
    "if N > 50 :\n",
    "    _out = False\n",
    "\n",
    "lambd = 0.1\n",
    "\n",
    "#To get N numbers evenly spread between 0 and 1, linspace() from numpy\n",
    "xi = np.linspace(0, 1, N)\n",
    "sigma = compute_cov_sigma(xi, lambd=lambd)\n",
    "\n",
    "if(_out) :\n",
    "    print(\"xi : \", xi.round(2))\n",
    "    print(\"Sigma :\")\n",
    "    print(sigma.round(3))\n",
    "else:\n",
    "    print(\"xi and Sigma computed !\")"
   ]
  },
  {
   "cell_type": "markdown",
   "metadata": {},
   "source": [
    "- Calculons $L$, la décomposition de Cholesky de $\\Sigma$\n",
    "- Prenons $G$, un vecteur de taille $N$ dont les valeurs sont des tirages aléatoires indépendants d'une loi Gausienne centrée réduite\n",
    "- Notons $m = (m(x_1), \\dots, m(x_N))$ (que l'on considère non nul uniquement pour cette question)"
   ]
  },
  {
   "cell_type": "code",
   "execution_count": 47,
   "metadata": {},
   "outputs": [
    {
     "name": "stdout",
     "output_type": "stream",
     "text": [
      "L, G and m computed !\n"
     ]
    }
   ],
   "source": [
    "L = la.cholesky(sigma)\n",
    "\n",
    "G = np.random.normal(0, 1, N)\n",
    "\n",
    "m = xi\n",
    "\n",
    "if _out :\n",
    "    print(\"L :\\n\", L.round(2))\n",
    "    print(\"G :\\n\", G.round(2))\n",
    "    print(\"m :\\n\", m.round(2))\n",
    "else :\n",
    "    print(\"L, G and m computed !\")"
   ]
  },
  {
   "cell_type": "markdown",
   "metadata": {},
   "source": [
    "Avec ces élements, calculons le vecteur aléatoire *$m + L^tG$*, que nous noterons $v$ pour cette question.\n",
    "\n",
    "Nous allons nous intéresser à la moyenne et la matrice de covariance de ce vecteur."
   ]
  },
  {
   "cell_type": "code",
   "execution_count": 28,
   "metadata": {},
   "outputs": [
    {
     "data": {
      "text/plain": [
       "[<matplotlib.lines.Line2D at 0x1bb0c5be520>]"
      ]
     },
     "execution_count": 28,
     "metadata": {},
     "output_type": "execute_result"
    },
    {
     "data": {
      "image/png": "[encoded data removed]",
      "text/plain": [
       "<Figure size 432x288 with 1 Axes>"
      ]
     },
     "metadata": {
      "needs_background": "light"
     },
     "output_type": "display_data"
    },
    {
     "data": {
      "image/png": "[encoded data removed]",
      "text/plain": [
       "<Figure size 432x288 with 1 Axes>"
      ]
     },
     "metadata": {
      "needs_background": "light"
     },
     "output_type": "display_data"
    }
   ],
   "source": [
    "v = m + (L.T @ G)\n",
    "\n",
    "ns = [5, 10, 20, 30, 50, 60, 70, 80, 100, 120, 150, 170, 200, 250, 299]\n",
    "means = []\n",
    "covs  = []\n",
    "\n",
    "for _n in ns :\n",
    "    _xi = np.linspace(0, 1, _n)\n",
    "    _sigma = compute_cov_sigma(_xi)\n",
    "    _L = la.cholesky(_sigma)\n",
    "    _G = np.random.normal(0, 1, _n)\n",
    "    _m = _xi\n",
    "    _v = _m + (_L.T @ _G)\n",
    "    \n",
    "    means.append(np.mean(_v))\n",
    "    covs.append(np.cov(_v))\n",
    "    \n",
    "\n",
    "plt.figure(\"Means\")\n",
    "plt.plot(ns, means)\n",
    "\n",
    "plt.figure(\"Covs\")\n",
    "plt.plot(ns, covs)\n"
   ]
  },
  {
   "cell_type": "markdown",
   "metadata": {},
   "source": [
    "# CONCLUSION DU a) ICI"
   ]
  },
  {
   "cell_type": "markdown",
   "metadata": {},
   "source": [
    "#### 1.b. Simulation d'un vecteur gaussien\n",
    "Nous allons simuler $g =  (g_1, \\dots, g_N)$ une réalisation de $G$ et calculer le vecteur $(z_1, \\dots, z_N) = L^tg$.\n",
    "\n",
    "#### 1.c. Etude numérique de la simulation \n",
    "Nous allons ensuite tracer le graphe $(x_i, z_i)_{i=1, \\dots, N}$ qui représente une réalisation du processus Gaussien $Z$ pour une valeur de paramètre $\\lambda=1$\n",
    "\n",
    "#### 1.d. Réitération de la simulation\n",
    "Enfin, nous allons réaliser (b) plusieurs fois, et représenter sur le même graphe les différentes réalisation de $Z$"
   ]
  },
  {
   "cell_type": "code",
   "execution_count": 111,
   "metadata": {},
   "outputs": [
    {
     "name": "stdout",
     "output_type": "stream",
     "text": [
      "z :\n",
      " [ 0.41507802 -0.95173679 -0.37614248 -0.19461043 -0.14071625 -0.10410847\n",
      " -0.07170929 -0.04017375 -0.01851391 -0.00502732]\n"
     ]
    }
   ],
   "source": [
    "#1.b\n",
    "g = np.random.normal(0, 1, N)\n",
    "\n",
    "z = L.T @ g\n",
    "\n",
    "if _out :\n",
    "    print(\"z :\\n\", z)\n",
    "else :\n",
    "    print(\"g and z computed !\")\n",
    "    \n",
    "#1.c\n",
    "\n",
    "\n",
    "#1.d"
   ]
  },
  {
   "cell_type": "markdown",
   "metadata": {},
   "source": [
    "## BLABLA ON CONSTATE SUR b,c,d\n",
    "\n",
    "#### 1.e. Changement du paramètre $\\lambda$\n",
    "Nous allons maintenant réitérer l'expérience ci-dessus (questions(a) à (d)) en changeant la valeur du paramètre $\\lambda$, initialement fixé à 1."
   ]
  },
  {
   "cell_type": "code",
   "execution_count": null,
   "metadata": {},
   "outputs": [],
   "source": []
  },
  {
   "cell_type": "markdown",
   "metadata": {},
   "source": [
    "On constate qu'en changeant le paramètre lambda, ...\n",
    "\n",
    "\n",
    "### 2. Estimation du paramètre $\\lambda$ par maximum de vraissemblance"
   ]
  }
 ],
 "metadata": {
  "interpreter": {
   "hash": "10c5057d4480ebf144572526414467b9c263049de934db5001d631c93a084db0"
  },
  "kernelspec": {
   "display_name": "Python 3.9.9 64-bit (windows store)",
   "language": "python",
   "name": "python3"
  },
  "language_info": {
   "codemirror_mode": {
    "name": "ipython",
    "version": 3
   },
   "file_extension": ".py",
   "mimetype": "text/x-python",
   "name": "python",
   "nbconvert_exporter": "python",
   "pygments_lexer": "ipython3",
   "version": "3.9.9"
  },
  "orig_nbformat": 4
 },
 "nbformat": 4,
 "nbformat_minor": 2
}
