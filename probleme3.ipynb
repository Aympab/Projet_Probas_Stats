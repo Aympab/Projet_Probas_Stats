{
 "cells": [
  {
   "cell_type": "code",
   "execution_count": 1,
   "metadata": {},
   "outputs": [],
   "source": [
    "import matplotlib.pyplot as plt\n",
    "import numpy as np\n",
    "import math\n",
    "import scipy as sc\n",
    "from scipy import stats"
   ]
  },
  {
   "cell_type": "markdown",
   "metadata": {},
   "source": [
    "## **Problème 3** : Simuler une loi de distribution a posteriori avec un algorithme MCMC\n",
    "\n",
    "Considérons une v.a $X$, suivant une loi de Poisson $\\mathcal{P}(\\theta)$ où $\\theta$ est un paramètre inconnu.\n",
    "\n",
    "Considérons que la loi de distribution _a priori_ de $\\theta$ est une loi Gamma de paramètres fixés et connus $k$ et $\\lambda$ : $\\mathcal{G}(k, \\lambda)$ et de distribution :\n",
    "$\n",
    "f(x)=\\frac{\\lambda}{\\Gamma(k)}(\\lambda(x-\\gamma))^{k-1} \\exp [-\\lambda(x-\\gamma)]\n",
    "$\n",
    "Ici, le paramètre $\\gamma$ est considéré nul, on a donc :\n",
    "$\n",
    "f(x)=\\frac{\\lambda}{\\Gamma(k)}(\\lambda x)^{k-1}e^{-\\lambda x} \\\\\n",
    "<=>\n",
    "f(x)=x^{k-1}\\frac{\\lambda^k}{\\Gamma(k)}e^{-\\lambda x}\n",
    "$\n",
    "\n",
    "Prenons $x=10$. La loi a posteriori de $\\theta | X = x$ est connue, c'est une loi $\\mathcal{G}(k + x, \\lambda + 1)$\n",
    "\n",
    "### 1. Utilisation d'un algorithme MCMC\n",
    "\n",
    "Dans cette question, nous allons générer un échantillon de ette loi en utilisant le produit de la vraissemblance et du prior avec un algorithme MCMC : __Metropolis Hastings__"
   ]
  },
  {
   "cell_type": "code",
   "execution_count": 16,
   "metadata": {},
   "outputs": [
    {
     "data": {
      "image/png": "[encoded data removed]",
      "text/plain": [
       "<Figure size 432x288 with 1 Axes>"
      ]
     },
     "metadata": {
      "needs_background": "light"
     },
     "output_type": "display_data"
    }
   ],
   "source": [
    "#----------------------------------------------------------------------------------------#\n",
    "# We know the posterior distribution\n",
    "k = 5\n",
    "l = 1\n",
    "\n",
    "def posterior(x):\n",
    "    return stats.gamma.pdf(x, k, l)\n",
    "    # return stats.gamma.pdf(x, k + x, l + 1)\n",
    "\n",
    "#We want to estimate it and check with the real posterior\n",
    "def estimated_posterior(x):\n",
    "    # return stats.gamma.pdf(x, k, l)\n",
    "    return poisson_likelihood(k, l) * stats.gamma.pdf(x, k, l)\n",
    "    return poisson_likelihood(k, l) * stats.gamma.pdf(k+x, l+1)\n",
    "\n",
    "def poisson_likelihood(k, lambd):\n",
    "    return ((lambd**k) * np.exp(-lambd))/math.factorial(k)\n",
    "#----------------------------------------------------------------------------------------#\n",
    "# plot posterior\n",
    "\n",
    "x_array = np.linspace(-5.0, 15.0, 100)\n",
    "y_array = np.asarray( [posterior(x) for x in x_array] )\n",
    "\n",
    "plt.plot(x_array,y_array)\n",
    "\n",
    "plt.grid()\n",
    "plt.title('Metropolis Hastings Posterior')\n",
    "plt.savefig('posterior.png',bbox_inches='tight')\n",
    "plt.show()\n",
    "plt.close()\n",
    "\n",
    "#----------------------------------------------------------------------------------------#\n",
    "# Metropolis Hastings sampling from the posterior distribution\n",
    "\n",
    "N = 100000\n",
    "s = 10\n",
    "\n",
    "x = 0\n",
    "p = posterior(x)\n",
    "\n",
    "samples = []\n",
    "\n",
    "for i in range(N):\n",
    "    xn = x + np.random.normal(size=1)\n",
    "    pn = estimated_posterior(xn)\n",
    "    if pn >= p:\n",
    "        p = pn\n",
    "        x = xn\n",
    "    else:\n",
    "        u = np.random.rand()\n",
    "        if u < pn/p:\n",
    "            p = pn\n",
    "            x = xn\n",
    "    if i % s == 0:\n",
    "        samples.append(x)\n",
    "\n",
    "samples = np.array(samples[len(samples)//2::])\n",
    "\n",
    "plt.scatter(samples, np.zeros_like(samples), s=10)\n",
    "\n",
    "plt.plot(x_array,y_array)\n",
    "plt.hist(samples, bins=50,density=1)\n",
    "\n",
    "plt.title('Metropolis Hastings sampling')\n",
    "plt.grid()\n",
    "plt.savefig('metropolis_hastings_1d.png',bbox_inches='tight')\n",
    "plt.show()\n",
    "plt.close()\n"
   ]
  }
 ],
 "metadata": {
  "interpreter": {
   "hash": "10c5057d4480ebf144572526414467b9c263049de934db5001d631c93a084db0"
  },
  "kernelspec": {
   "display_name": "Python 3.9.9 64-bit (windows store)",
   "language": "python",
   "name": "python3"
  },
  "language_info": {
   "codemirror_mode": {
    "name": "ipython",
    "version": 3
   },
   "file_extension": ".py",
   "mimetype": "text/x-python",
   "name": "python",
   "nbconvert_exporter": "python",
   "pygments_lexer": "ipython3",
   "version": "3.9.9"
  },
  "orig_nbformat": 4
 },
 "nbformat": 4,
 "nbformat_minor": 2
}
